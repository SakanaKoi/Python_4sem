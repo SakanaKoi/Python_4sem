{
 "cells": [
  {
   "attachments": {},
   "cell_type": "markdown",
   "metadata": {
    "id": "Lcw3IdrGix2Y"
   },
   "source": [
    "# Практическое занятие №1\n",
    "\n",
    "_П.Н. Советов, РТУ МИРЭА_\n"
   ]
  },
  {
   "cell_type": "markdown",
   "metadata": {
    "collapsed": false
   },
   "source": [
    "Запустите IDLE. Проверьте работу интерпретатора в режиме REPL на простых арифметических примерах. Научитесь создавать новые программы в редакторе IDLE, сохранять их с расширением .py, запускать программы.\n"
   ]
  },
  {
   "attachments": {},
   "cell_type": "markdown",
   "metadata": {
    "id": "LnJHzVgZix2g"
   },
   "source": [
    "## 1. Первое знакомство с языком\n"
   ]
  },
  {
   "cell_type": "markdown",
   "metadata": {
    "collapsed": false
   },
   "source": [
    "**1.1.** (уровень сложности: простейший)\n",
    "\n",
    "В реализации Питона спрятано несколько «пасхальных яиц». С одним из них мы уже сталкивались, это import this. Есть (1) как-то связанное с гравитацией. И еще одно (2), для тех, кто ленится написать даже самую первую программу, а также (3) для любителей языков программирования с непохожим на Питон синтаксисом. А еще (4) есть сюрприз для тех, кто хотел бы сравнивать объекты, как в Паскале. Удастся ли вам все это обнаружить?\n"
   ]
  },
  {
   "cell_type": "code",
   "execution_count": 1,
   "metadata": {
    "collapsed": false
   },
   "outputs": [
    {
     "name": "stdout",
     "output_type": "stream",
     "text": [
      "The Zen of Python, by Tim Peters\n",
      "\n",
      "Beautiful is better than ugly.\n",
      "Explicit is better than implicit.\n",
      "Simple is better than complex.\n",
      "Complex is better than complicated.\n",
      "Flat is better than nested.\n",
      "Sparse is better than dense.\n",
      "Readability counts.\n",
      "Special cases aren't special enough to break the rules.\n",
      "Although practicality beats purity.\n",
      "Errors should never pass silently.\n",
      "Unless explicitly silenced.\n",
      "In the face of ambiguity, refuse the temptation to guess.\n",
      "There should be one-- and preferably only one --obvious way to do it.\n",
      "Although that way may not be obvious at first unless you're Dutch.\n",
      "Now is better than never.\n",
      "Although never is often better than *right* now.\n",
      "If the implementation is hard to explain, it's a bad idea.\n",
      "If the implementation is easy to explain, it may be a good idea.\n",
      "Namespaces are one honking great idea -- let's do more of those!\n"
     ]
    }
   ],
   "source": [
    "import this"
   ]
  },
  {
   "cell_type": "code",
   "execution_count": 2,
   "metadata": {
    "collapsed": false
   },
   "outputs": [
    {
     "name": "stdout",
     "output_type": "stream",
     "text": [
      "37.857713 -122.544543\n",
      "37.857713 -122.544543\n"
     ]
    }
   ],
   "source": [
    "import antigravity\n",
    "\n",
    "antigravity.geohash(37.421542, -122.085589, b'2005-05-26-10458.68')"
   ]
  },
  {
   "cell_type": "code",
   "execution_count": 3,
   "metadata": {
    "collapsed": false
   },
   "outputs": [
    {
     "name": "stdout",
     "output_type": "stream",
     "text": [
      "Hello world!\n"
     ]
    }
   ],
   "source": [
    "import __hello__\n"
   ]
  },
  {
   "cell_type": "code",
   "execution_count": 4,
   "metadata": {
    "collapsed": false
   },
   "outputs": [
    {
     "ename": "SyntaxError",
     "evalue": "not a chance (1663002590.py, line 1)",
     "output_type": "error",
     "traceback": [
      "\u001b[1;36m  File \u001b[1;32m\"C:\\Users\\My\\AppData\\Local\\Temp\\ipykernel_7728\\1663002590.py\"\u001b[1;36m, line \u001b[1;32m1\u001b[0m\n\u001b[1;33m    from __future__ import braces\u001b[0m\n\u001b[1;37m    ^\u001b[0m\n\u001b[1;31mSyntaxError\u001b[0m\u001b[1;31m:\u001b[0m not a chance\n"
     ]
    }
   ],
   "source": [
    "from __future__ import braces"
   ]
  },
  {
   "cell_type": "code",
   "execution_count": 6,
   "metadata": {
    "collapsed": false
   },
   "outputs": [
    {
     "data": {
      "text/plain": [
       "True"
      ]
     },
     "execution_count": 6,
     "metadata": {},
     "output_type": "execute_result"
    }
   ],
   "source": [
    "from __future__ import barry_as_FLUFL\n",
    "\n",
    "1 <> 2"
   ]
  },
  {
   "cell_type": "markdown",
   "metadata": {
    "collapsed": false
   },
   "source": [
    "**1.2.** (уровень сложности: низкий)\n",
    "\n",
    "Запишите число 42 с помощью 10 различных способов, чем разнообразнее, тем лучше. Использовать литеральную запись, без арифметики и функций. В любом варианте должно соблюдаться == 42."
   ]
  },
  {
   "cell_type": "code",
   "execution_count": 33,
   "metadata": {
    "collapsed": false
   },
   "outputs": [
    {
     "name": "stdout",
     "output_type": "stream",
     "text": [
      "True\n",
      "True\n",
      "True\n",
      "True\n",
      "True\n",
      "True\n",
      "True\n",
      "True\n",
      "True\n",
      "True\n"
     ]
    }
   ],
   "source": [
    "print(0b101010 == 42)  # binary\n",
    "print(0o52 == 42)  # octal\n",
    "print(0x2a == 42)  # hexadecimal\n",
    "print(42 + 0j == 42)  # complex\n",
    "print(42.0 == 42)  # float\n",
    "print(42 == 42)  # int\n",
    "print(ord('*') == 42)  # char\n",
    "print(len('*' * 42) == 42)  # string length\n",
    "print(len([*range(42)]) == 42)  # list length\n",
    "print(4.2e1 == 42)  # scientific notation"
   ]
  },
  {
   "cell_type": "markdown",
   "metadata": {
    "collapsed": false
   },
   "source": [
    "**1.3.** (уровень сложности: низкий)\n",
    "\n",
    "Есть ли ограничения на диапазон чисел в Питоне? Как насчет чисел с плавающей запятой? Какое максимальное значение вы сумели получить до переполнения?"
   ]
  },
  {
   "cell_type": "code",
   "execution_count": 9,
   "metadata": {
    "collapsed": false
   },
   "outputs": [
    {
     "name": "stdout",
     "output_type": "stream",
     "text": [
      "1.7976931348623157e+308\n",
      "2.2250738585072014e-308\n",
      "9223372036854775807\n"
     ]
    }
   ],
   "source": [
    "import sys\n",
    "\n",
    "print(sys.float_info.max)\n",
    "print(sys.float_info.min)\n",
    "print(sys.maxsize)  # 2 ** 63 - 1"
   ]
  },
  {
   "cell_type": "markdown",
   "metadata": {
    "collapsed": false
   },
   "source": [
    "**1.4.** (уровень сложности: низкий)\n",
    "\n",
    "Найдите в документации встроенную (builtin) арифметическую функцию, которая возвращает не одно, а два значения разом."
   ]
  },
  {
   "cell_type": "code",
   "execution_count": 14,
   "metadata": {
    "collapsed": false
   },
   "outputs": [
    {
     "name": "stdout",
     "output_type": "stream",
     "text": [
      "(0.4200000000000017, 42.0)\n"
     ]
    }
   ],
   "source": [
    "#builtin arithmetic functions\n",
    "import math\n",
    "\n",
    "print(math.modf(42.42))"
   ]
  },
  {
   "cell_type": "markdown",
   "metadata": {
    "collapsed": false
   },
   "source": [
    "**1.5.** (уровень сложности: низкий)\n",
    "\n",
    "C приведенным ниже циклом что-то не так. Как это исправить?\n",
    "\n",
    "Что на самом деле представляет собой 0.1 внутри интерпретатора? Можно ли увидеть его настоящее значение? [Поэкспериментируйте](https://float.exposed/0x44bf9400)."
   ]
  },
  {
   "cell_type": "code",
   "execution_count": 2,
   "metadata": {
    "id": "6Qz61GaAix2n"
   },
   "outputs": [
    {
     "data": {
      "text/plain": [
       "'Success!'"
      ]
     },
     "execution_count": 2,
     "metadata": {},
     "output_type": "execute_result"
    }
   ],
   "source": [
    "'''\n",
    "a = 10\n",
    "while a != 0:\n",
    "    a -= 0.1\n",
    "\n",
    "Многократное вычитание 0,1 из 10 никогда не приведет к тому, что оно станет точно равным 0.\n",
    "Это связано с тем, что арифметика с плавающей запятой в компьютерах не является точной,\n",
    "и представление определенных десятичных чисел в двоичном форма может привести к ошибкам округления.\n",
    "\n",
    "Данную проблему можно решить с помощью функции math.isclose(a, 0, abs_tol=1e-09)\n",
    "'''\n",
    "\n",
    "import math\n",
    "\n",
    "a = 10\n",
    "while not math.isclose(a, 0, abs_tol=1e-09):\n",
    "    a -= 0.1\n",
    "\n",
    "'Success!'\n",
    "\n",
    "\n"
   ]
  },
  {
   "cell_type": "markdown",
   "metadata": {
    "collapsed": false
   },
   "source": []
  },
  {
   "attachments": {},
   "cell_type": "markdown",
   "metadata": {
    "id": "-X0iZuXKix2p"
   },
   "source": [
    "**1.6.** (уровень сложности: низкий)\n",
    "\n",
    "А вот совсем уже безобидный код. Циклов нет, но программа зависает. Почему?\n"
   ]
  },
  {
   "cell_type": "code",
   "execution_count": null,
   "metadata": {
    "id": "FNkHOFSQix2r"
   },
   "outputs": [],
   "source": [
    "'''\n",
    "z = 1\n",
    "z <<= 40\n",
    "2 ** z\n",
    "\n",
    "Значение z после сдвига превышает максимальное значение для int.\n",
    "\n",
    "'''"
   ]
  },
  {
   "attachments": {},
   "cell_type": "markdown",
   "metadata": {
    "id": "kPyiO0MSix2s"
   },
   "source": [
    "**1.7.** (уровень сложности: низкий)\n",
    "\n",
    "Да-да, и этот код зацикливается! А тут-то что не так?\n"
   ]
  },
  {
   "cell_type": "code",
   "execution_count": 1,
   "metadata": {
    "id": "VItdIUCqix2u"
   },
   "outputs": [
    {
     "name": "stdout",
     "output_type": "stream",
     "text": [
      "0\n",
      "1\n",
      "2\n",
      "3\n",
      "4\n",
      "5\n",
      "6\n",
      "7\n",
      "8\n",
      "9\n"
     ]
    }
   ],
   "source": [
    "'''\n",
    "i = 0\n",
    "while i < 10:\n",
    "    print(i)\n",
    "    ++i\n",
    "\n",
    "В Питоне нет инкремента ++.\n",
    "'''\n",
    "\n",
    "i = 0\n",
    "while i < 10:\n",
    "    print(i)\n",
    "    i += 1"
   ]
  },
  {
   "attachments": {},
   "cell_type": "markdown",
   "metadata": {
    "id": "U5MGXbrQix2v"
   },
   "source": [
    "**1.8.** (уровень сложности: низкий)\n",
    "\n",
    "Что за странное выражение и странный результат?\n"
   ]
  },
  {
   "cell_type": "code",
   "execution_count": 4,
   "metadata": {
    "id": "svisxDAzix2w",
    "outputId": "4e2aa72c-079b-4603-b815-fc8ed8624fb3"
   },
   "outputs": [
    {
     "data": {
      "text/plain": [
       "-2"
      ]
     },
     "execution_count": 4,
     "metadata": {},
     "output_type": "execute_result"
    }
   ],
   "source": [
    "'''\n",
    "True обрабатывается как 1, а False — как 0 в арифметических операциях в Python.\n",
    "True * 2 = 2.\n",
    "2 + False = 2.\n",
    "-True = -1.\n",
    "2 * -1 = -2.\n",
    "'''\n",
    "\n",
    "(True * 2 + False) * -True\n"
   ]
  },
  {
   "attachments": {},
   "cell_type": "markdown",
   "metadata": {
    "id": "H9RFAPSIix2x"
   },
   "source": [
    "**1.9.** (уровень сложности: низкий)\n",
    "\n",
    "В Питоне можно использовать цепочки операций сравнения. Рассмотрите следующие примеры и попробуйте объяснить код:\n"
   ]
  },
  {
   "cell_type": "code",
   "execution_count": 5,
   "metadata": {
    "id": "vRciUHEZix2y",
    "outputId": "1edd7ea2-4911-47d6-cd94-8f5bb6355edd"
   },
   "outputs": [
    {
     "data": {
      "text/plain": [
       "True"
      ]
     },
     "execution_count": 5,
     "metadata": {},
     "output_type": "execute_result"
    }
   ],
   "source": [
    "x = 5\n",
    "1 < x < 10"
   ]
  },
  {
   "cell_type": "code",
   "execution_count": 6,
   "metadata": {
    "id": "J3GMWo4Pix2y",
    "outputId": "6763bb18-8668-4ead-dab9-943a48cbab51"
   },
   "outputs": [
    {
     "data": {
      "text/plain": [
       "False"
      ]
     },
     "execution_count": 6,
     "metadata": {},
     "output_type": "execute_result"
    }
   ],
   "source": [
    "x = 5\n",
    "1 < (x < 10)\n",
    "\n",
    "# В первом случае сравниваются два числа, во втором - сравнивается число с булевым значением."
   ]
  },
  {
   "attachments": {},
   "cell_type": "markdown",
   "metadata": {
    "id": "FlkvtHjPix2z"
   },
   "source": [
    "# 2. Сообщения об ошибках\n"
   ]
  },
  {
   "cell_type": "markdown",
   "metadata": {
    "collapsed": false
   },
   "source": [
    "К сообщениям об ошибках Питона нужно привыкать, в них нет ничего страшного. Давайте специально напишем некорректный код для того, чтобы получить каждое из указанных ниже сообщений об ошибках.\n",
    "\n",
    "**2.1.** (уровень сложности: простейший)\n",
    "\n",
    "SyntaxError: invalid syntax"
   ]
  },
  {
   "cell_type": "code",
   "execution_count": 18,
   "metadata": {
    "collapsed": false
   },
   "outputs": [
    {
     "ename": "SyntaxError",
     "evalue": "invalid syntax (3783637776.py, line 1)",
     "output_type": "error",
     "traceback": [
      "\u001b[1;36m  File \u001b[1;32m\"C:\\Users\\My\\AppData\\Local\\Temp\\ipykernel_12600\\3783637776.py\"\u001b[1;36m, line \u001b[1;32m1\u001b[0m\n\u001b[1;33m    ''a\u001b[0m\n\u001b[1;37m      ^\u001b[0m\n\u001b[1;31mSyntaxError\u001b[0m\u001b[1;31m:\u001b[0m invalid syntax\n"
     ]
    }
   ],
   "source": [
    "''\n",
    "a"
   ]
  },
  {
   "cell_type": "markdown",
   "metadata": {
    "collapsed": false
   },
   "source": [
    "**2.2.** (уровень сложности: простейший)\n",
    "\n",
    "SyntaxError: cannot assign to literal"
   ]
  },
  {
   "cell_type": "code",
   "execution_count": 10,
   "metadata": {
    "collapsed": false
   },
   "outputs": [
    {
     "ename": "SyntaxError",
     "evalue": "cannot assign to literal (2024024552.py, line 1)",
     "output_type": "error",
     "traceback": [
      "\u001b[1;36m  File \u001b[1;32m\"C:\\Users\\My\\AppData\\Local\\Temp\\ipykernel_12600\\2024024552.py\"\u001b[1;36m, line \u001b[1;32m1\u001b[0m\n\u001b[1;33m    3 = x\u001b[0m\n\u001b[1;37m    ^\u001b[0m\n\u001b[1;31mSyntaxError\u001b[0m\u001b[1;31m:\u001b[0m cannot assign to literal\n"
     ]
    }
   ],
   "source": [
    "3 = x"
   ]
  },
  {
   "cell_type": "markdown",
   "metadata": {
    "collapsed": false
   },
   "source": [
    "**2.3.** (уровень сложности: простейший)\n",
    "\n",
    "NameError: name ... is not defined"
   ]
  },
  {
   "cell_type": "code",
   "execution_count": 33,
   "metadata": {
    "collapsed": false
   },
   "outputs": [
    {
     "ename": "NameError",
     "evalue": "name 'hello_world' is not defined",
     "output_type": "error",
     "traceback": [
      "\u001b[1;31m---------------------------------------------------------------------------\u001b[0m",
      "\u001b[1;31mNameError\u001b[0m                                 Traceback (most recent call last)",
      "\u001b[1;32m~\\AppData\\Local\\Temp\\ipykernel_12600\\3007780112.py\u001b[0m in \u001b[0;36m<module>\u001b[1;34m\u001b[0m\n\u001b[1;32m----> 1\u001b[1;33m \u001b[0mhello_world\u001b[0m\u001b[1;33m\u001b[0m\u001b[1;33m\u001b[0m\u001b[0m\n\u001b[0m",
      "\u001b[1;31mNameError\u001b[0m: name 'hello_world' is not defined"
     ]
    }
   ],
   "source": [
    "hello_world"
   ]
  },
  {
   "cell_type": "markdown",
   "metadata": {
    "collapsed": false
   },
   "source": [
    "**2.4.** (уровень сложности: простейший)\n",
    "\n",
    "SyntaxError: unterminated string literal"
   ]
  },
  {
   "cell_type": "code",
   "execution_count": 14,
   "metadata": {
    "collapsed": false
   },
   "outputs": [
    {
     "ename": "SyntaxError",
     "evalue": "EOL while scanning string literal (1300993510.py, line 1)",
     "output_type": "error",
     "traceback": [
      "\u001b[1;36m  File \u001b[1;32m\"C:\\Users\\My\\AppData\\Local\\Temp\\ipykernel_12600\\1300993510.py\"\u001b[1;36m, line \u001b[1;32m1\u001b[0m\n\u001b[1;33m    'Hello world\u001b[0m\n\u001b[1;37m                ^\u001b[0m\n\u001b[1;31mSyntaxError\u001b[0m\u001b[1;31m:\u001b[0m EOL while scanning string literal\n"
     ]
    }
   ],
   "source": [
    "'Hello world"
   ]
  },
  {
   "cell_type": "markdown",
   "metadata": {
    "collapsed": false
   },
   "source": [
    "**2.5.** (уровень сложности: простейший)\n",
    "\n",
    "TypeError: unsupported operand type(s) for ..."
   ]
  },
  {
   "cell_type": "code",
   "execution_count": 38,
   "metadata": {
    "collapsed": false
   },
   "outputs": [
    {
     "ename": "TypeError",
     "evalue": "unsupported operand type(s) for +: 'int' and 'str'",
     "output_type": "error",
     "traceback": [
      "\u001b[1;31m---------------------------------------------------------------------------\u001b[0m",
      "\u001b[1;31mTypeError\u001b[0m                                 Traceback (most recent call last)",
      "\u001b[1;32m~\\AppData\\Local\\Temp\\ipykernel_12600\\338420604.py\u001b[0m in \u001b[0;36m<module>\u001b[1;34m\u001b[0m\n\u001b[1;32m----> 1\u001b[1;33m \u001b[1;36m4\u001b[0m \u001b[1;33m+\u001b[0m \u001b[1;34m'2'\u001b[0m\u001b[1;33m\u001b[0m\u001b[1;33m\u001b[0m\u001b[0m\n\u001b[0m",
      "\u001b[1;31mTypeError\u001b[0m: unsupported operand type(s) for +: 'int' and 'str'"
     ]
    }
   ],
   "source": [
    "4 + '2'"
   ]
  },
  {
   "cell_type": "markdown",
   "metadata": {
    "collapsed": false
   },
   "source": [
    "**2.6.** (уровень сложности: простейший)\n",
    "\n",
    "IndentationError: expected an indented block"
   ]
  },
  {
   "cell_type": "code",
   "execution_count": 20,
   "metadata": {
    "collapsed": false
   },
   "outputs": [
    {
     "ename": "IndentationError",
     "evalue": "expected an indented block (1098676696.py, line 2)",
     "output_type": "error",
     "traceback": [
      "\u001b[1;36m  File \u001b[1;32m\"C:\\Users\\My\\AppData\\Local\\Temp\\ipykernel_12600\\1098676696.py\"\u001b[1;36m, line \u001b[1;32m2\u001b[0m\n\u001b[1;33m    'Hello world'\u001b[0m\n\u001b[1;37m    ^\u001b[0m\n\u001b[1;31mIndentationError\u001b[0m\u001b[1;31m:\u001b[0m expected an indented block\n"
     ]
    }
   ],
   "source": [
    "if True:\n",
    "    'Hello world'"
   ]
  },
  {
   "cell_type": "markdown",
   "metadata": {
    "collapsed": false
   },
   "source": [
    "**2.7.** (уровень сложности: простейший)\n",
    "\n",
    "IndentationError: unindent does not match any outer indentation level"
   ]
  },
  {
   "cell_type": "code",
   "execution_count": 26,
   "metadata": {
    "collapsed": false
   },
   "outputs": [
    {
     "ename": "IndentationError",
     "evalue": "unexpected indent (1698047422.py, line 2)",
     "output_type": "error",
     "traceback": [
      "\u001b[1;36m  File \u001b[1;32m\"C:\\Users\\My\\AppData\\Local\\Temp\\ipykernel_12600\\1698047422.py\"\u001b[1;36m, line \u001b[1;32m2\u001b[0m\n\u001b[1;33m    'Hello world'\u001b[0m\n\u001b[1;37m    ^\u001b[0m\n\u001b[1;31mIndentationError\u001b[0m\u001b[1;31m:\u001b[0m unexpected indent\n"
     ]
    }
   ],
   "source": [
    "'Hello world'\n",
    "'Hello world'"
   ]
  },
  {
   "cell_type": "markdown",
   "metadata": {
    "collapsed": false
   },
   "source": [
    "**2.8.** (уровень сложности: простейший)\n",
    "\n",
    "ValueError: math domain error"
   ]
  },
  {
   "cell_type": "code",
   "execution_count": 27,
   "metadata": {
    "collapsed": false
   },
   "outputs": [
    {
     "ename": "ValueError",
     "evalue": "math domain error",
     "output_type": "error",
     "traceback": [
      "\u001b[1;31m---------------------------------------------------------------------------\u001b[0m",
      "\u001b[1;31mValueError\u001b[0m                                Traceback (most recent call last)",
      "\u001b[1;32m~\\AppData\\Local\\Temp\\ipykernel_12600\\3154830422.py\u001b[0m in \u001b[0;36m<module>\u001b[1;34m\u001b[0m\n\u001b[0;32m      1\u001b[0m \u001b[1;32mimport\u001b[0m \u001b[0mmath\u001b[0m\u001b[1;33m\u001b[0m\u001b[1;33m\u001b[0m\u001b[0m\n\u001b[0;32m      2\u001b[0m \u001b[1;33m\u001b[0m\u001b[0m\n\u001b[1;32m----> 3\u001b[1;33m \u001b[0mmath\u001b[0m\u001b[1;33m.\u001b[0m\u001b[0msqrt\u001b[0m\u001b[1;33m(\u001b[0m\u001b[1;33m-\u001b[0m\u001b[1;36m1\u001b[0m\u001b[1;33m)\u001b[0m\u001b[1;33m\u001b[0m\u001b[1;33m\u001b[0m\u001b[0m\n\u001b[0m",
      "\u001b[1;31mValueError\u001b[0m: math domain error"
     ]
    }
   ],
   "source": [
    "import math\n",
    "\n",
    "math.sqrt(-1)"
   ]
  },
  {
   "cell_type": "markdown",
   "metadata": {
    "collapsed": false
   },
   "source": [
    "**2.9.** (уровень сложности: простейший)\n",
    "\n",
    "OverflowError: math range error"
   ]
  },
  {
   "cell_type": "code",
   "execution_count": 32,
   "metadata": {
    "collapsed": false
   },
   "outputs": [
    {
     "ename": "OverflowError",
     "evalue": "math range error",
     "output_type": "error",
     "traceback": [
      "\u001b[1;31m---------------------------------------------------------------------------\u001b[0m",
      "\u001b[1;31mOverflowError\u001b[0m                             Traceback (most recent call last)",
      "\u001b[1;32m~\\AppData\\Local\\Temp\\ipykernel_12600\\174813227.py\u001b[0m in \u001b[0;36m<module>\u001b[1;34m\u001b[0m\n\u001b[0;32m      1\u001b[0m \u001b[1;32mimport\u001b[0m \u001b[0mmath\u001b[0m\u001b[1;33m\u001b[0m\u001b[1;33m\u001b[0m\u001b[0m\n\u001b[0;32m      2\u001b[0m \u001b[1;33m\u001b[0m\u001b[0m\n\u001b[1;32m----> 3\u001b[1;33m \u001b[0mmath\u001b[0m\u001b[1;33m.\u001b[0m\u001b[0mexp\u001b[0m\u001b[1;33m(\u001b[0m\u001b[1;36m1000\u001b[0m\u001b[1;33m)\u001b[0m\u001b[1;33m\u001b[0m\u001b[1;33m\u001b[0m\u001b[0m\n\u001b[0m",
      "\u001b[1;31mOverflowError\u001b[0m: math range error"
     ]
    }
   ],
   "source": [
    "import math\n",
    "\n",
    "math.exp(1000)"
   ]
  },
  {
   "cell_type": "markdown",
   "metadata": {
    "collapsed": false
   },
   "source": []
  },
  {
   "attachments": {},
   "cell_type": "markdown",
   "metadata": {
    "id": "gzpTJINpix21"
   },
   "source": [
    "## 3. Арифметика\n"
   ]
  },
  {
   "attachments": {},
   "cell_type": "markdown",
   "metadata": {
    "id": "1XrjRnoGix21"
   },
   "source": [
    "Мир микропроцессоров не ограничивается только большими чипами для настольных применений. Маломощные микроконтроллеры могут выступать в роли умных датчиков в задачах, связанных с Интернетом вещей. Слабенькие 8-битные микропроцессоры являлись «сердцем» многих классических игровых приставок. Типичный 8-битный процессор не имеет аппаратной поддержки умножения. Как же выкручиваются программисты в этой ситуации?\n",
    "\n",
    "Представим, что в Питоне тоже отсутствует операция умножения. Ее можно заменить сложением. Если мы хотим умножить какое-то число x на 12, то нам понадобится 11 сложений, правильно? Это довольно много, но, оказывается, можно обойтись и меньшим числом сложений.\n",
    "\n",
    "Из арифметических операций разрешается использовать только явно указанные и в указанном количестве. Входным аргументом является переменная x. Унарный минус использовать нельзя. Тело программы должно состоять из линейной последовательности присваиваний. Оформите линейный код решения в виде функции."
   ]
  },
  {
   "cell_type": "code",
   "execution_count": 88,
   "metadata": {
    "collapsed": false
   },
   "outputs": [],
   "source": [
    "def test_foo(foo_num, foo, test_num=7):\n",
    "    try:\n",
    "        assert foo(test_num) == test_num * foo_num\n",
    "        print('Success!')\n",
    "    except AssertionError:\n",
    "        print(f'Error: {test_num} * {foo_num} != {foo(test_num)}')\n"
   ]
  },
  {
   "cell_type": "markdown",
   "metadata": {
    "collapsed": false
   },
   "source": [
    "**3.1.** (уровень сложности: низкий)\n",
    "\n",
    "Умножение на 12. Используйте 4 сложения."
   ]
  },
  {
   "cell_type": "code",
   "execution_count": 89,
   "metadata": {
    "collapsed": false
   },
   "outputs": [
    {
     "name": "stdout",
     "output_type": "stream",
     "text": [
      "Success!\n"
     ]
    }
   ],
   "source": [
    "def mul12(x):\n",
    "    y = x + x\n",
    "    z = y + y\n",
    "    return z + z + z\n",
    "\n",
    "\n",
    "test_foo(12, mul12)"
   ]
  },
  {
   "cell_type": "markdown",
   "metadata": {
    "collapsed": false
   },
   "source": [
    "**3.2.** (уровень сложности: низкий)\n",
    "\n",
    "Умножение на 16. Используйте 4 сложения."
   ]
  },
  {
   "cell_type": "code",
   "execution_count": 90,
   "metadata": {
    "collapsed": false
   },
   "outputs": [
    {
     "name": "stdout",
     "output_type": "stream",
     "text": [
      "Success!\n"
     ]
    }
   ],
   "source": [
    "def mul16(x):\n",
    "    y = x + x\n",
    "    z = y + y\n",
    "    w = z + z\n",
    "    return w + w\n",
    "\n",
    "\n",
    "test_foo(16, mul16)"
   ]
  },
  {
   "cell_type": "markdown",
   "metadata": {
    "collapsed": false
   },
   "source": [
    "**3.3.** (уровень сложности: средний)\n",
    "\n",
    "Умножение на 15. Используйте 3 сложения и 2 вычитания."
   ]
  },
  {
   "cell_type": "code",
   "execution_count": 91,
   "metadata": {
    "collapsed": false
   },
   "outputs": [
    {
     "name": "stdout",
     "output_type": "stream",
     "text": [
      "Success!\n"
     ]
    }
   ],
   "source": [
    "def mul15(x):\n",
    "    y = x + x\n",
    "    z = y + y\n",
    "    a = z + z\n",
    "    return a - (x - a)\n",
    "\n",
    "\n",
    "test_foo(15, mul15)"
   ]
  },
  {
   "attachments": {},
   "cell_type": "markdown",
   "metadata": {
    "id": "EHQTIU5-ix22"
   },
   "source": [
    "**3.4.** (уровень сложности: низкий)\n",
    "\n",
    "Некто попытался реализовать «наивную» функцию умножения с помощью сложений. К сожалению, в коде много ошибок. Сможете ли вы их исправить?\n",
    "\n",
    "Добавьте к naive_mul автоматическое тестирование на случайных данных. Сравнивайте с встроенным умножением, используя конструкцию assert.\n"
   ]
  },
  {
   "cell_type": "code",
   "execution_count": 104,
   "metadata": {
    "id": "0Q-zXh8pix22"
   },
   "outputs": [
    {
     "data": {
      "text/plain": [
       "15"
      ]
     },
     "execution_count": 104,
     "metadata": {},
     "output_type": "execute_result"
    }
   ],
   "source": [
    "'''\n",
    "def naive_mul(x, y):\n",
    "    r = 1\n",
    "    for i in range(0, y - 1)\n",
    "        x = x + r\n",
    "    end\n",
    "'''\n",
    "\n",
    "\n",
    "def naive_mul(x, y):\n",
    "    r = sum(x for _ in range(y))\n",
    "    assert r == x * y, f'{r} != {x} * {y}'\n",
    "    return r\n",
    "\n",
    "\n",
    "naive_mul(3, 5)"
   ]
  },
  {
   "attachments": {},
   "cell_type": "markdown",
   "metadata": {
    "id": "4nvKv5kqix22"
   },
   "source": [
    "Существует старинный метод умножения по методу русского крестьянина. Разобрать его проще на примере.\n",
    "\n",
    "Предположим, мы хотим перемножить 10 и 15:\n",
    "\n",
    "| x     | y   |\n",
    "| ----- | --- |\n",
    "| 10    | 15  |\n",
    "| **5** | 30  |\n",
    "| 2     | 60  |\n",
    "| **1** | 120 |\n",
    "\n",
    "В первом столбце последовательно записывают результаты деления на 2 с отбрасыванием остатка. Во втором столбце находятся результаты умножения на 2. Отмечаем нечетные числа в первом столбце. Складываем те числа в правом столбце, которые стоят напротив отмеченных ранее чисел. То есть 30 + 120 = 150. В нашем случае мы не учитывали исходные числа при сложении, но учитывать их, вообще говоря, может быть нужно.\n",
    "\n",
    "В этом алгоритме используются лишь простейшие операции: умножение на 2, целочисленное деление на 2, проверка на нечетность и сложение. Эти операции соответствуют тем элементарным действиям, которые эффективно выполняет любой процессор. Сам же алгоритм, несмотря на кажущуюся необычность, является вариантом умножения в столбик при использовании двоичного представления чисел:\n",
    "\n",
    "```\n",
    "   1111\n",
    "   1010 *\n",
    "   ----\n",
    "   0000\n",
    "  1111\n",
    " 0000\n",
    "1111\n",
    "```\n"
   ]
  },
  {
   "cell_type": "markdown",
   "metadata": {
    "collapsed": false
   },
   "source": [
    "**3.5.** (уровень сложности: средний)\n",
    "\n",
    "Реализуйте функцию fast_mul в соответствии с алгоритмом двоичного умножения в столбик (без рекурсии!). Добавьте автоматическое тестирование, как в случае с naive_mul.\n"
   ]
  },
  {
   "cell_type": "code",
   "execution_count": 3,
   "metadata": {
    "collapsed": false
   },
   "outputs": [
    {
     "data": {
      "text/plain": [
       "150"
      ]
     },
     "execution_count": 3,
     "metadata": {},
     "output_type": "execute_result"
    }
   ],
   "source": [
    "def fast_mul(x, y):\n",
    "    temp_x, temp_y = x, y\n",
    "    r = 0\n",
    "    while x > 0:\n",
    "        if x & 1:\n",
    "            r += y\n",
    "        x >>= 1\n",
    "        y <<= 1\n",
    "    assert r == temp_x * temp_y, f'{r} != {temp_x} * {temp_y}'\n",
    "    return r\n",
    "\n",
    "\n",
    "fast_mul(10, 15)"
   ]
  },
  {
   "attachments": {},
   "cell_type": "markdown",
   "metadata": {
    "id": "F7WvH9fnix23"
   },
   "source": [
    "\n",
    "**3.6.** (уровень сложности: средний)\n",
    "\n",
    "Реализуйте аналогичную функцию fast_pow для возведения в степень. Решение необходимо получить только с помощью небольших модификаций предыдущего решения.\n"
   ]
  },
  {
   "cell_type": "code",
   "execution_count": 4,
   "metadata": {
    "collapsed": false
   },
   "outputs": [
    {
     "data": {
      "text/plain": [
       "1024"
      ]
     },
     "execution_count": 4,
     "metadata": {},
     "output_type": "execute_result"
    }
   ],
   "source": [
    "def fast_pow(x, y):\n",
    "    temp_x, temp_y = x, y\n",
    "    r = 1\n",
    "    while y > 0:\n",
    "        if y & 1:\n",
    "            r *= x\n",
    "        x = fast_mul(x, x)\n",
    "        y >>= 1\n",
    "    assert r == temp_x ** temp_y, f'{r} != {temp_x} ** {temp_y}'\n",
    "    return r\n",
    "\n",
    "\n",
    "fast_pow(2, 10)"
   ]
  },
  {
   "attachments": {},
   "cell_type": "markdown",
   "metadata": {
    "id": "kY7JEL2Aix23"
   },
   "source": [
    "**3.7.** (уровень сложности: средний)\n",
    "\n",
    "Предположим, что стоит задача перемножить два 16-битных числа без знака. Однако в наличии у нас имеется только операция умножения 8-битных чисел. Оказывается, можно применить четыре 8-битных умножения, если разбить исходные числа на 8-битные половинки. Побитовые сдвиги умножениями не считаются.\n",
    "\n",
    "Выведите формулу для умножения «половинок» и реализуйте функцию mul16(x, y), используя приведенную ниже функцию mul_bits, которая имитирует умножение с ограниченной числом bits разрядностью аргументов.\n"
   ]
  },
  {
   "cell_type": "code",
   "execution_count": 2,
   "metadata": {
    "id": "pVt6dMk_ix24"
   },
   "outputs": [
    {
     "data": {
      "text/plain": [
       "150"
      ]
     },
     "execution_count": 2,
     "metadata": {},
     "output_type": "execute_result"
    }
   ],
   "source": [
    "def mul_bits(x, y, bits):\n",
    "    x &= (2 ** bits - 1)\n",
    "    y &= (2 ** bits - 1)\n",
    "    return x * y\n",
    "\n",
    "\n",
    "def mul16(x, y):\n",
    "    x1, y1 = x >> 0x8, y >> 0x8\n",
    "    x2, y2 = x & 0xff, y & 0xff\n",
    "    r = (mul_bits(x1, y1, 0x8) << 0x10) \\\n",
    "        + (mul_bits(x1, y2, 0x8) << 0x8) \\\n",
    "        + (mul_bits(x2, y1, 0x8) << 0x8) \\\n",
    "        + mul_bits(x2, y2, 0x8)\n",
    "    assert r == x * y, f'{r} != {x} * {y}'\n",
    "    return r\n",
    "\n",
    "\n",
    "mul16(10, 15)\n"
   ]
  },
  {
   "attachments": {},
   "cell_type": "markdown",
   "metadata": {
    "id": "VO0npzIJix24"
   },
   "source": [
    "**3.8.** (уровень сложности: средний)\n",
    "\n",
    "    Четыре умножения из предыдущей задачи – не предел. Советский ученый Анатолий Алексеевич Карацуба в 1960 г. [предложил](https://www.mathnet.ru/links/5c522538012c746223cf85fe9ea8fc07/tm1120.pdf) формулу (а для общего случая – рекурсивный алгоритм), требующую лишь трех умножений. Выведите эту формулу с подсказками от преподавателя и реализуйте функцию mul16k(x, y).\n"
   ]
  },
  {
   "cell_type": "code",
   "execution_count": 5,
   "metadata": {
    "collapsed": false
   },
   "outputs": [
    {
     "data": {
      "text/plain": [
       "150"
      ]
     },
     "execution_count": 5,
     "metadata": {},
     "output_type": "execute_result"
    }
   ],
   "source": [
    "def mul_bits(x, y, bits):\n",
    "    x &= (2 ** bits - 1)\n",
    "    y &= (2 ** bits - 1)\n",
    "    return x * y\n",
    "\n",
    "\n",
    "def mul16k(x, y):\n",
    "    x1, y1 = x >> 0x8, y >> 0x8\n",
    "    x2, y2 = x & 0xff, y & 0xff\n",
    "    p1 = mul_bits(x1, y1, 0x8)\n",
    "    p2 = mul_bits(x2, y2, 0x8)\n",
    "    p3 = mul_bits(x1 + x2, y1 + y2, 0x8) - p1 - p2\n",
    "    r = (p1 << 0x10) + (p3 << 0x8) + p2\n",
    "    assert r == x * y, f'{r} != {x} * {y}'\n",
    "    return r\n",
    "\n",
    "\n",
    "mul16k(10, 15)"
   ]
  },
  {
   "cell_type": "markdown",
   "metadata": {
    "collapsed": false
   },
   "source": [
    "Иногда возникает необходимость в создании программы, которая в качестве результата выдаст другую программу. В этом нет ничего необычного, так устроен, к примеру, компилятор. Но если задача стоит узкоспециальная, то речь идет о создании генератора программ по заданным параметрам.\n",
    "\n",
    "**3.9.** (уровень сложности: высокий)\n",
    "\n",
    "Реализуйте генератор программ fast_mul_gen(y) для задач 2.1-2.3. Воспользуйтесь ранее полученным кодом fast_mul. Ваша функция должна выдать текст функции f(x) (умножение на ранее заданный y), тело которой состоит из некоторого числа присваиваний. Для вывода функции используйте print. Добавьте автоматическое тестирование. Объясните, почему в общем случае у вас получается большее количество сложений, чем в задачах 2.1-2.3."
   ]
  },
  {
   "cell_type": "code",
   "execution_count": 11,
   "metadata": {
    "collapsed": false
   },
   "outputs": [
    {
     "data": {
      "text/plain": [
       "'Success!'"
      ]
     },
     "execution_count": 11,
     "metadata": {},
     "output_type": "execute_result"
    }
   ],
   "source": [
    "def fast_mul_gen(y):\n",
    "    res = 'def f(x):\\n'\n",
    "    res += '    r = 0\\n'\n",
    "    while y > 1:\n",
    "        if y & 1:\n",
    "            res += '    r += x\\n'\n",
    "        res += '    x += x\\n'\n",
    "        y >>= 1\n",
    "    res += '    r += x\\n'\n",
    "    res += '    return r\\n'\n",
    "    return res\n",
    "\n",
    "\n",
    "def test_fast_mul_gen(x, y):\n",
    "    code = fast_mul_gen(y)\n",
    "    exec(code, globals())\n",
    "    assert f(x) == x * y, f'{f(x)} != {x} * {y}'\n",
    "\n",
    "\n",
    "test_fast_mul_gen(10, 15)\n",
    "'Success!'\n"
   ]
  },
  {
   "cell_type": "markdown",
   "metadata": {
    "collapsed": false
   },
   "source": [
    "**3.10.** (уровень сложности: низкий)\n",
    "\n",
    "Реализуйте на основе fast_mul_gen генератор программ для возведения в степень."
   ]
  },
  {
   "cell_type": "code",
   "execution_count": 9,
   "metadata": {
    "collapsed": false
   },
   "outputs": [
    {
     "data": {
      "text/plain": [
       "'Success!'"
      ]
     },
     "execution_count": 9,
     "metadata": {},
     "output_type": "execute_result"
    }
   ],
   "source": [
    "def fast_pow_gen(y):\n",
    "    res = 'def f(x):\\n'\n",
    "    res += '    r = 1\\n'\n",
    "    while y > 1:\n",
    "        if y & 1:\n",
    "            res += '    r *= x\\n'\n",
    "        res += '    x *= x\\n'\n",
    "        y >>= 1\n",
    "    res += '    r *= x\\n'\n",
    "    res += '    return r\\n'\n",
    "    return res\n",
    "\n",
    "\n",
    "def test_fast_mul_gen(x, y):\n",
    "    code = fast_pow_gen(y)\n",
    "    exec(code, globals())\n",
    "    assert f(x) == x ** y, f'{f(x)} != {x} ** {y}'\n",
    "\n",
    "\n",
    "test_fast_mul_gen(10, 15)\n",
    "'Success!'\n"
   ]
  },
  {
   "attachments": {},
   "cell_type": "markdown",
   "metadata": {
    "id": "LF3QPgBPix25"
   },
   "source": [
    "## 4. Пиксельные шейдеры\n",
    "\n",
    "Шейдеры представляют собой небольшие программы, обычно предназначенные для исполнения на графической карте. Шейдеры могут работать параллельно и не запоминают свое состояние. Это просто функции, переводящие координаты экрана в цвет. Шейдеры широко используются для создания специальных эффектов, а также в играх. Обычно шейдеры программируют на C-подобных языках. Попробуем имитировать работу шейдеров прямо в Питоне!\n",
    "\n",
    "Итак, вся работа должна производится в теле функции func(x, y). Координаты заданы в диапазоне [0, 1). Функция возвращает три цветовых компонента, каждый из которых также находится в диапазоне [0, 1]. При решении задач старайтесь не использовать ветвлений и, тем более, циклов. Не забывайте, что шейдеры не имеют доступа к глобальным данным и поэтому даже модуль random использовать нельзя.\n",
    "\n",
    "Для решения задач понадобится приведенная ниже заготовка программы.\n",
    "\n",
    "**Дополнительная информация**\n",
    "\n",
    "1. Книга [The Book of Shaders](https://thebookofshaders.com/).\n",
    "1. Сайт известного специалиста в области процедурной графики [Inigo Quilez](https://iquilezles.org/articles/).\n",
    "1. О [Value Noise](https://www.scratchapixel.com/lessons/procedural-generation-virtual-worlds/procedural-patterns-noise-part-1/introduction.html).\n"
   ]
  },
  {
   "cell_type": "code",
   "execution_count": null,
   "metadata": {
    "id": "7MTAPWlXix25"
   },
   "outputs": [],
   "source": [
    "import math\n",
    "import tkinter as tk\n",
    "\n",
    "\n",
    "def pyshader(func, w, h):\n",
    "    scr = bytearray((0, 0, 0) * w * h)\n",
    "    for y in range(h):\n",
    "        for x in range(w):\n",
    "            p = (w * y + x) * 3\n",
    "            scr[p:p + 3] = [max(min(int(c * 255), 255), 0)\n",
    "                            for c in func(x / w, y / h)]\n",
    "    return bytes('P6\\n%d %d\\n255\\n' % (w, h), 'ascii') + scr\n",
    "\n",
    "\n",
    "# Ваш код здесь:\n",
    "def func(x, y):\n",
    "    return x, y, 0\n",
    "\n",
    "\n",
    "label = tk.Label()\n",
    "img = tk.PhotoImage(data=pyshader(func, 256, 256)).zoom(2, 2)\n",
    "label.pack()\n",
    "label.config(image=img)\n",
    "tk.mainloop()\n"
   ]
  },
  {
   "attachments": {},
   "cell_type": "markdown",
   "metadata": {
    "id": "fFyoACP6ix26"
   },
   "source": [
    "**4.1.** (уровень сложности: низкий)\n",
    "\n",
    "Изобразите свою версию знаменитого «Черного квадрата».\n",
    "\n",
    "![](https://github.com/true-grue/kispython/blob/main/images/pyshader2.png?raw=1)\n"
   ]
  },
  {
   "cell_type": "code",
   "execution_count": 6,
   "metadata": {},
   "outputs": [],
   "source": [
    "import math\n",
    "import tkinter as tk\n",
    "\n",
    "\n",
    "def pyshader(func, w, h):\n",
    "    scr = bytearray((0, 0, 0) * w * h)\n",
    "    for y in range(h):\n",
    "        for x in range(w):\n",
    "            p = (w * y + x) * 3\n",
    "            scr[p:p + 3] = [max(min(int(c * 255), 255), 0)\n",
    "                            for c in func(x / w, y / h)]\n",
    "    return bytes('P6\\n%d %d\\n255\\n' % (w, h), 'ascii') + scr\n",
    "\n",
    "\n",
    "# Ваш код здесь:\n",
    "def func(x, y):\n",
    "    if 0.1 <= x <= 0.9 and 0.1 <= y <= 0.9:\n",
    "        return 0, 0, 0\n",
    "    return 1, 1, 1\n",
    "\n",
    "\n",
    "label = tk.Label()\n",
    "img = tk.PhotoImage(data=pyshader(func, 256, 256)).zoom(2, 2)\n",
    "label.pack()\n",
    "label.config(image=img)\n",
    "tk.mainloop()\n"
   ]
  },
  {
   "attachments": {},
   "cell_type": "markdown",
   "metadata": {
    "id": "Ebg8PhVoix26"
   },
   "source": [
    "**4.2.** (уровень сложности: низкий)\n",
    "\n",
    "Изобразите шар, показанный на примере ниже.\n",
    "\n",
    "![](https://github.com/true-grue/kispython/blob/main/images/pyshader1.png?raw=1)\n"
   ]
  },
  {
   "cell_type": "code",
   "execution_count": 5,
   "metadata": {},
   "outputs": [],
   "source": [
    "import math\n",
    "import tkinter as tk\n",
    "\n",
    "\n",
    "def pyshader(func, w, h):\n",
    "    scr = bytearray((0, 0, 0) * w * h)\n",
    "    for y in range(h):\n",
    "        for x in range(w):\n",
    "            p = (w * y + x) * 3\n",
    "            scr[p:p + 3] = [max(min(int(c * 255), 255), 0)\n",
    "                            for c in func(x / w, y / h)]\n",
    "    return bytes('P6\\n%d %d\\n255\\n' % (w, h), 'ascii') + scr\n",
    "\n",
    "\n",
    "# Ваш код здесь:\n",
    "def func(x, y):\n",
    "    cirle1 = (x - 0.53) ** 2 + (y - 0.53) ** 2\n",
    "    cirle2 = (x - 0.50) ** 2 + (y - 0.50) ** 2\n",
    "    return 1 - cirle1 / 0.1, 1 - cirle2 / 0.1, 0\n",
    "\n",
    "\n",
    "label = tk.Label()\n",
    "img = tk.PhotoImage(data=pyshader(func, 256, 256)).zoom(2, 2)\n",
    "label.pack()\n",
    "label.config(image=img)\n",
    "tk.mainloop()\n"
   ]
  },
  {
   "attachments": {},
   "cell_type": "markdown",
   "metadata": {
    "id": "5l5DeLhoix26"
   },
   "source": [
    "**4.3.** (уровень сложности: средний)\n",
    "\n",
    "Изобразите знаменитого персонажа компьютерной игры.\n",
    "\n",
    "![](https://github.com/true-grue/kispython/blob/main/images/pyshader3.png?raw=1)\n"
   ]
  },
  {
   "cell_type": "code",
   "execution_count": 7,
   "metadata": {},
   "outputs": [],
   "source": [
    "import tkinter as tk\n",
    "\n",
    "\n",
    "def pyshader(func, w, h):\n",
    "    scr = bytearray((0, 0, 0) * w * h)\n",
    "    for y in range(h):\n",
    "        for x in range(w):\n",
    "            p = (w * y + x) * 3\n",
    "            scr[p:p + 3] = [max(min(int(c * 255), 255), 0)\n",
    "                            for c in func(x / w, y / h)]\n",
    "    return bytes('P6\\n%d %d\\n255\\n' % (w, h), 'ascii') + scr\n",
    "\n",
    "\n",
    "def func(x, y):\n",
    "    body_x = 0.5 - x\n",
    "    body_y = 0.5 - y\n",
    "    dist_body = (body_x ** 2 + body_y ** 2) ** 0.5\n",
    "\n",
    "    eye_x = 0.55 - x\n",
    "    eye_y = 0.32 - y\n",
    "    dist_eye = (eye_x ** 2 + eye_y ** 2) ** 0.5\n",
    "\n",
    "    up_tr = body_y > 2 * body_x / 3 and x >= 0.5 and y >= 0.5\n",
    "    lw_tr = body_y < -2 * body_x / 3 and x >= 0.5 >= y\n",
    "\n",
    "    if x > 0.45 > y and 0.36 - dist_eye > 0.3:\n",
    "        return 0, 0, 0\n",
    "    elif up_tr or lw_tr:\n",
    "        return 0, 0, 0\n",
    "    elif 0.5 - dist_body > 0.2 and 0.5 - dist_body > 0.2:\n",
    "        return 1, 1, 0\n",
    "    else:\n",
    "        return 0, 0, 0\n",
    "    \n",
    "\n",
    "label = tk.Label()\n",
    "img = tk.PhotoImage(data=pyshader(func, 256, 256)).zoom(2, 2)\n",
    "label.pack()\n",
    "label.config(image=img)\n",
    "tk.mainloop()\n"
   ]
  },
  {
   "attachments": {},
   "cell_type": "markdown",
   "metadata": {
    "id": "DI__rYo4ix26"
   },
   "source": [
    "**4.4.** (уровень сложности: низкий)\n",
    "\n",
    "Реализуйте функцию шума noise, которая по заданным координатам выдает случайное значение. Не используйте модуль random. Не забывайте, что глобальным состоянием пользоваться нельзя.\n",
    "\n",
    "![](https://github.com/true-grue/kispython/blob/main/images/pyshader4.png?raw=1)\n"
   ]
  },
  {
   "cell_type": "code",
   "execution_count": 8,
   "metadata": {},
   "outputs": [],
   "source": [
    "import tkinter as tk\n",
    "import math\n",
    "\n",
    "\n",
    "def pyshader(func, w, h):\n",
    "    scr = bytearray((0, 0, 0) * w * h)\n",
    "    for y in range(h):\n",
    "        for x in range(w):\n",
    "            p = (w * y + x) * 3\n",
    "            scr[p:p + 3] = [max(min(int(c * 255), 255), 0)\n",
    "                            for c in func(x / w, y / h)]\n",
    "    return bytes('P6\\n%d %d\\n255\\n' % (w, h), 'ascii') + scr\n",
    "\n",
    "\n",
    "# Ваш код здесь:\n",
    "def func(x, y):\n",
    "    color = noise(x, y)\n",
    "    return color, color, color\n",
    "\n",
    "\n",
    "def noise(x, y):\n",
    "    return fract(math.sin(x * 12.9898 + y * 78.233) * 43758.5453123)\n",
    "\n",
    "\n",
    "def fract(x):\n",
    "    return x - math.floor(x)\n",
    "\n",
    "\n",
    "label = tk.Label()\n",
    "img = tk.PhotoImage(data=pyshader(func, 256, 256)).zoom(2, 2)\n",
    "label.pack()\n",
    "label.config(image=img)\n",
    "tk.mainloop()\n"
   ]
  },
  {
   "attachments": {},
   "cell_type": "markdown",
   "metadata": {
    "id": "-eSeDiGsix27"
   },
   "source": [
    "**4.5.** (уровень сложности: средний)\n",
    "\n",
    "Реализуйте функцию интерполяционного шума val_noise, используя алгоритм value noise (см. источники выше), а также ранее разработанную функцию noise.\n",
    "\n",
    "![](https://github.com/true-grue/kispython/blob/main/images/pyshader5.png?raw=1)\n"
   ]
  },
  {
   "cell_type": "code",
   "execution_count": 14,
   "metadata": {},
   "outputs": [],
   "source": [
    "import tkinter as tk\n",
    "import math\n",
    "\n",
    "\n",
    "def pyshader(func, w, h):\n",
    "    scr = bytearray((0, 0, 0) * w * h)\n",
    "    for y in range(h):\n",
    "        for x in range(w):\n",
    "            p = (w * y + x) * 3\n",
    "            scr[p:p + 3] = [max(min(int(c * 255), 255), 0)\n",
    "                            for c in func(x / w, y / h)]\n",
    "    return bytes('P6\\n%d %d\\n255\\n' % (w, h), 'ascii') + scr\n",
    "\n",
    "def noise(x, y):\n",
    "    return fract(math.sin(x * 12.9898 + y * 78.233) * 43758.5453123)\n",
    "\n",
    "\n",
    "def lerp(a, b, x):\n",
    "    return (1 - x) * a + x * b\n",
    "\n",
    "\n",
    "def fract(x):\n",
    "    return x - math.floor(x)\n",
    "\n",
    "def val_noise(x, y):\n",
    "    ix = math.floor(x)\n",
    "    iy = math.floor(y)\n",
    "    fx = fract(x)\n",
    "    fy = fract(y)\n",
    "    ux = fx * fx * (3.0 - 2.0 * fx)\n",
    "    uy = fy * fy * (3.0 - 2.0 * fy)\n",
    "    return lerp(\n",
    "        lerp(noise(ix + 0.0, iy + 0.0), noise(ix + 1.0, iy + 0.0), ux),\n",
    "        lerp(noise(ix + 0.0, iy + 1.0), noise(ix + 1.0, iy + 1.0), ux),\n",
    "        uy\n",
    "    )\n",
    "\n",
    "\n",
    "# Ваш код здесь:\n",
    "def func(x, y):\n",
    "    color = val_noise(x * 20, y * 20)\n",
    "    return color, color, color\n",
    "\n",
    "\n",
    "label = tk.Label()\n",
    "img = tk.PhotoImage(data=pyshader(func, 256, 256)).zoom(2, 2)\n",
    "label.pack()\n",
    "label.config(image=img)\n",
    "tk.mainloop()\n"
   ]
  },
  {
   "attachments": {},
   "cell_type": "markdown",
   "metadata": {
    "id": "g2MeeyPeix27"
   },
   "source": [
    "**4.6.** (уровень сложности: средний)\n",
    "\n",
    "Изобразите облака с помощью алгоритма фрактального шума (fBm noise, см. источники выше) и с использованием ранее разработанной функции val_noise.\n",
    "\n",
    "![](https://github.com/true-grue/kispython/blob/main/images/pyshader6.png?raw=1)\n"
   ]
  },
  {
   "cell_type": "code",
   "execution_count": null,
   "metadata": {},
   "outputs": [],
   "source": [
    "import tkinter as tk\n",
    "import math\n",
    "\n",
    "\n",
    "def pyshader(func, w, h):\n",
    "    scr = bytearray((0, 0, 0) * w * h)\n",
    "    for y in range(h):\n",
    "        for x in range(w):\n",
    "            p = (w * y + x) * 3\n",
    "            scr[p:p + 3] = [max(min(int(c * 255), 255), 0)\n",
    "                            for c in func(x / w, y / h)]\n",
    "    return bytes('P6\\n%d %d\\n255\\n' % (w, h), 'ascii') + scr\n",
    "\n",
    "\n",
    "# Ваш код здесь:\n",
    "def func(x, y):\n",
    "    sx = x * 10\n",
    "    sy = y * 10\n",
    "    color = fractal_noise(sx, sy)\n",
    "    return 0, color, 1\n",
    "\n",
    "\n",
    "def fractal_noise(x, y):\n",
    "    value = 0.0\n",
    "    amp = 0.5\n",
    "    freq = 1.0\n",
    "    for _ in range(5):\n",
    "        value += amp * val_noise(x * freq, y * freq)\n",
    "        freq *= 2.0\n",
    "        amp *= 0.5\n",
    "    return value\n",
    "\n",
    "\n",
    "def noise(x, y):\n",
    "    return fract(math.sin(x * 12.9898 + y * 78.233) * 43758.5453123)\n",
    "\n",
    "\n",
    "\n",
    "def val_noise(x, y):\n",
    "    ix = math.floor(x)\n",
    "    iy = math.floor(y)\n",
    "\n",
    "    fx = fract(x)\n",
    "    fy = fract(y)\n",
    "\n",
    "    ux = fx * fx * (3.0 - 2.0 * fx)\n",
    "    uy = fy * fy * (3.0 - 2.0 * fy)\n",
    "\n",
    "    return lerp(\n",
    "        lerp(noise(ix + 0.0, iy + 0.0), noise(ix + 1.0, iy + 0.0), ux),\n",
    "        lerp(noise(ix + 0.0, iy + 1.0), noise(ix + 1.0, iy + 1.0), ux),\n",
    "        uy\n",
    "    )\n",
    "\n",
    "\n",
    "def lerp(a, b, x):\n",
    "    return (1 - x) * a + x * b\n",
    "\n",
    "\n",
    "def fract(x):\n",
    "    return x - math.floor(x)\n",
    "\n",
    "\n",
    "label = tk.Label()\n",
    "img = tk.PhotoImage(data=pyshader(func, 256, 256)).zoom(2, 2)\n",
    "label.pack()\n",
    "label.config(image=img)\n",
    "tk.mainloop()"
   ]
  },
  {
   "attachments": {},
   "cell_type": "markdown",
   "metadata": {
    "id": "zBhvt3EWix27"
   },
   "source": [
    "**4.7.** (уровень сложности: хакер)\n",
    "\n",
    "Реализуйте более серьезную и производительную систему для работы с шейдерами в Питоне. Вот несколько идей для улучшения:\n",
    "\n",
    "1. Добавьте к координатам переменную t. Это позволит делать анимацию.\n",
    "1. Улучшите быстродействие системы. Что лучше использовать – модуль multiprocessing, JIT-компилятор Numba или что-то еще?\n",
    "1. Замените работу с Tkinter на систему с удобным редактором и просмотром, используя PySDL, PyQt или что-то иное.\n"
   ]
  },
  {
   "attachments": {},
   "cell_type": "markdown",
   "metadata": {
    "id": "-wX3BHR_ix28"
   },
   "source": [
    "## 5. Алгоритмическая игра DandyBot\n",
    "\n",
    "(уровень сложности: низкий)\n"
   ]
  },
  {
   "attachments": {},
   "cell_type": "markdown",
   "metadata": {
    "id": "CI92V2BWix28"
   },
   "source": [
    "Скачайте [DandyBot](https://github.com/true-grue/DandyBot). Код для своего игрока записывается в файле user_bot.py. Игра запускается с помощью main.py.\n",
    "\n",
    "Вот простой пример содержимого user_bot.py:\n",
    "\n",
    "```Python\n",
    "def script(check, x, y):\n",
    "    return 'right'\n",
    "```\n",
    "\n",
    "Игровая логика записывается исключительно в теле функции script. В нашем случае игрок будет постоянно двигаться вправо.\n",
    "\n",
    "Полный список действий, которые можно возвращать из функции script, задающей «интеллект» игрока:\n",
    "\n",
    "- 'up'. Двигаться вверх на клетку.\n",
    "- 'down'. Двигаться вниз на клетку.\n",
    "- 'left'. Двигаться влево на клетку.\n",
    "- 'right'. Двигаться вправо на клетку.\n",
    "- 'pass'. Ничего не делать.\n",
    "- 'take'. Взять золото.\n",
    "\n",
    "Для изучения среды есть функция check:\n",
    "\n",
    "- check('player', x, y). True, если какой-то игрок в позиции (x, y).\n",
    "- check('gold', x , y). Если золото в позиции (x, y), то вернуть его количество, иначе вернуть 0.\n",
    "- check('wall', x, y). True, если стена в позиции (x, y).\n",
    "- check('level'). Вернуть номер текущего уровня.\n",
    "\n",
    "Ваша задача — пройти все уровни. Дополнительно устанавливаемыми библиотеками и глобальными данными пользоваться нельзя.\n",
    "\n",
    "Если игра Вам показалась слишком простой, то попробуйте ее улучшить: упростите код, добавьте новые функции, уровни.\n"
   ]
  }
 ],
 "metadata": {
  "colab": {
   "provenance": []
  },
  "kernelspec": {
   "display_name": "base",
   "language": "python",
   "name": "python3"
  },
  "language_info": {
   "codemirror_mode": {
    "name": "ipython",
    "version": 3
   },
   "file_extension": ".py",
   "mimetype": "text/x-python",
   "name": "python",
   "nbconvert_exporter": "python",
   "pygments_lexer": "ipython3",
   "version": "3.9.5"
  },
  "orig_nbformat": 4,
  "vscode": {
   "interpreter": {
    "hash": "54abfbb584b5853140055d48f33c34405ff3025548b35fcf0d3acd1dbd5beaa4"
   }
  }
 },
 "nbformat": 4,
 "nbformat_minor": 0
}
